{
 "cells": [
  {
   "cell_type": "code",
   "execution_count": null,
   "metadata": {},
   "outputs": [],
   "source": [
    "import torch\n",
    "import numpy as np\n",
    "from transformers import AutoTokenizer, AutoModel\n",
    "\n",
    "class InLegalBERTEmbeddings:\n",
    "    def __init__(self, model_name=\"law-ai/InLegalBERT\"):\n",
    "        self.tokenizer = AutoTokenizer.from_pretrained(model_name)\n",
    "        self.model = AutoModel.from_pretrained(model_name)\n",
    "\n",
    "    def embed_documents(self, texts):\n",
    "        embeddings = []\n",
    "        for text in texts:\n",
    "            # Tokenize the input text\n",
    "            inputs = self.tokenizer(text, return_tensors='pt', truncation=True, padding=True, max_length=512)\n",
    "            \n",
    "            # Get the model outputs\n",
    "            with torch.no_grad():\n",
    "                outputs = self.model(**inputs)\n",
    "            \n",
    "            # Use the last hidden state\n",
    "            last_hidden_state = outputs.last_hidden_state\n",
    "            \n",
    "            # Apply mean pooling to get a single vector for the entire text\n",
    "            sentence_embedding = last_hidden_state.mean(dim=1).squeeze().numpy()\n",
    "            embeddings.append(sentence_embedding)\n",
    "        \n",
    "        return np.array(embeddings)"
   ]
  },
  {
   "cell_type": "code",
   "execution_count": null,
   "metadata": {},
   "outputs": [],
   "source": [
    "embeddings = InLegalBERTEmbeddings(model_name=\"law-ai/InLegalBERT\")"
   ]
  },
  {
   "cell_type": "code",
   "execution_count": null,
   "metadata": {},
   "outputs": [],
   "source": [
    "from langchain.text_splitter import RecursiveCharacterTextSplitter\n",
    "from langchain.vectorstores import FAISS\n",
    "import pandas as pd\n",
    "# Load the CSV data\n",
    "csv_path = r\"D:\\Work\\projects\\Major Project\\BharatLAW\\data\\FIR_DATASET.csv\"\n",
    "df = pd.read_csv(csv_path)\n",
    "\n",
    "# Combine relevant columns into a single text string for embedding\n",
    "def create_document(row):\n",
    "    return f\"Section: {row['URL'].split('/')[-1]} | Description: {row['Description']} | Offense: {row['Offense']} | Punishment: {row['Punishment']}\"\n",
    "\n",
    "df['document'] = df.apply(create_document, axis=1)\n",
    "\n",
    "# Split the documents into chunks (if necessary)\n",
    "text_splitter = RecursiveCharacterTextSplitter(chunk_size=1000, chunk_overlap=200)\n",
    "docs = text_splitter.create_documents(df['document'].tolist())\n",
    "\n",
    "# Generate embeddings and add them to the vector store\n",
    "vectorstore = FAISS.from_documents(docs, embeddings)\n",
    "\n",
    "# Save the updated vector store\n",
    "vectorstore.save_local(\"ipc_embed_db_updated\")"
   ]
  }
 ],
 "metadata": {
  "kernelspec": {
   "display_name": "Python 3",
   "language": "python",
   "name": "python3"
  },
  "language_info": {
   "codemirror_mode": {
    "name": "ipython",
    "version": 3
   },
   "file_extension": ".py",
   "mimetype": "text/x-python",
   "name": "python",
   "nbconvert_exporter": "python",
   "pygments_lexer": "ipython3",
   "version": "3.12.4"
  }
 },
 "nbformat": 4,
 "nbformat_minor": 2
}
